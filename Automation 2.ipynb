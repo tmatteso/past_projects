{
 "cells": [
  {
   "cell_type": "code",
   "execution_count": 6,
   "id": "c689d298",
   "metadata": {},
   "outputs": [],
   "source": [
    "# essentially this hw is the same as last time but with regressors rather than classifiers\n",
    "# remember to use MSE rather than accuracy\n",
    "from sklearn.linear_model import LinearRegression\n",
    "from sklearn.metrics import mean_squared_error\n",
    "from sklearn.ensemble import BaggingRegressor\n",
    "from sklearn.base import clone\n",
    "from numpy import linalg\n",
    "from scipy import stats\n",
    "from sklearn.model_selection import KFold\n",
    "import matplotlib.pyplot as plt\n",
    "import numpy as np\n",
    "import random\n",
    "from math import log2\n",
    "\n",
    "\n",
    "def lr_regressor(X,y, SEED):\n",
    "#     clf = RandomForestClassifier(max_depth=2, random_state=0)\n",
    "#     clf.fit(X, y)\n",
    "    #print(SEED)\n",
    "    reg = LinearRegression()\n",
    "    reg.fit(X, y)\n",
    "    return reg\n",
    "\n",
    "def partition_data(data, indices):\n",
    "    X, y = [], []\n",
    "    for index in indices:\n",
    "        X.append(data[index, :-1])\n",
    "        y.append(data[index, -1])\n",
    "    return np.array(X), np.array(y)\n",
    "\n",
    "    \n",
    "def update_indices(indices, remaining_indices, dataset, clf, TYPE):\n",
    "    # need to apply the remaining_indices to the data\n",
    "    train_X, train_y = partition_data(dataset, indices)\n",
    "    test_X, test_y = partition_data(dataset, remaining_indices)\n",
    "    if TYPE == \"random\":\n",
    "        next_index = random.choice(remaining_indices)\n",
    "    elif TYPE == \"uncertainty\":\n",
    "        next_datapoint = uncertainty_sampling(clf, train_X, train_y, test_X)\n",
    "        next_index = np.where(dataset[:, :-1]==next_datapoint)[0][0]\n",
    "    elif TYPE == \"density\":\n",
    "        next_datapoint = density_sampling(clf, train_X, train_y, test_X)\n",
    "        next_index = np.where(dataset[:, :-1]==next_datapoint)[0][0]\n",
    "    elif TYPE == \"qbc\":\n",
    "        next_datapoint = qbc(clf, train_X, train_y, test_X)\n",
    "        next_index = np.where(dataset[:, :-1]==next_datapoint)[0][0]\n",
    "    elif TYPE == \"model change\":\n",
    "        next_datapoint = model_change(clf, train_X, train_y, test_X)\n",
    "        next_index = np.where(dataset[:, :-1]==next_datapoint)[0][0]\n",
    "    elif TYPE == \"mellow uncertainty\":\n",
    "        next_datapoint = mellow_uncertainty_sampling(clf, test_X)\n",
    "        next_index = np.where(dataset[:, :-1]==next_datapoint)[0][0]\n",
    "    indices.append(next_index)\n",
    "    remaining_indices.remove(next_index)\n",
    "    return indices, remaining_indices\n",
    "\n",
    "def train_regressor(c_train_X, c_train_y, c_test_X, c_test_y, SEED, CV=False):\n",
    "    if CV == True:\n",
    "        # cross validation goes here\n",
    "        kf = KFold(n_splits=5)\n",
    "        split_mses = []\n",
    "        for train_index, test_index in kf.split(c_train_X, c_train_y):\n",
    "            # train estimator\n",
    "            rf_r = lr_regressor(c_train_X[train_index], c_train_y[train_index], SEED)\n",
    "            # evaluate cv -- train means cv here because I am dumb\n",
    "            split_mses.append(mean_squared_error(c_train_y[test_index], rf_r.predict(c_train_X[test_index])))\n",
    "        rf_c = lr_regressor(c_train_X, c_train_y, SEED)\n",
    "        CV_mse = np.mean(split_mses)\n",
    "        return CV_mse, rf_c\n",
    "    else:\n",
    "        rf_c = lr_regressor(c_train_X, c_train_y, SEED)\n",
    "        all_data_mse = mean_squared_error(c_test_y, rf_c.predict(c_test_X))\n",
    "        return all_data_mse, rf_c\n",
    "\n",
    "def split_train_test(classification_data, indices, remaining_indices, SEED, CV):\n",
    "    c_train_X, c_train_y = partition_data(classification_data, indices)\n",
    "    c_test_X, c_test_y = partition_data(classification_data, remaining_indices)\n",
    "\n",
    "    all_data_acc, clf = train_regressor(c_train_X, c_train_y, c_test_X, c_test_y, SEED, CV)\n",
    "    return all_data_acc, clf\n",
    "\n",
    "def one_sim(indices, remaining_indices, classification_data, clf, TYPE, SEED, all_data_accs, CV):\n",
    "    while len(indices) < 50:\n",
    "        indices, remaining_indices = update_indices(indices, remaining_indices,classification_data, clf, TYPE)\n",
    "        # now I need to maintain some if statements\n",
    "        # retrain each model \n",
    "        all_data_acc, clf = split_train_test(classification_data, indices, remaining_indices, SEED, CV)\n",
    "        all_data_accs.append(all_data_acc)\n",
    "    return (all_data_accs)\n",
    "    \n",
    "\n",
    "# uncertainty clf, data_X\n",
    "def uncertainty_sampling(reg, X_train, y_train, X_test):\n",
    "    # get std_dev of old points\n",
    "    var = sum((reg.predict(X_train) - y_train)**2) / (len(y_train) - 2)\n",
    "    # now calc prediction interval\n",
    "    train_mean = np.mean(X_train)\n",
    "    sum_dists = np.sum([(point-train_mean)**2 for point in X_train])\n",
    "    n = X_train.shape[0]\n",
    "    PI_ranges = []\n",
    "    for new_point in X_test:\n",
    "        sum_dist_from_new = np.sum([(point-new_point)**2 for point in X_train]) \n",
    "        pred_error = var* (sum_dist_from_new/(n*sum_dists) + 1)\n",
    "        # assuming a 95% PI, the z_alpha/2 = 1.96\n",
    "        prediction_interval = (reg.predict([new_point]) - 1.96*np.sqrt(pred_error), \n",
    "                              reg.predict([new_point]) + 1.96*np.sqrt(pred_error))\n",
    "        PI_range = abs(prediction_interval[0] - prediction_interval[1])\n",
    "        PI_ranges.append(PI_range)\n",
    "    #print(X_test.shape, )\n",
    "    return X_test[np.argmax(PI_ranges)]\n",
    "\n",
    "\n",
    "# density\n",
    "# need \n",
    "def utility(reg, X_train, y_train, new_point):\n",
    "    # get std_dev of old points\n",
    "    var = sum((reg.predict(X_train) - y_train)**2) / (len(y_train) - 2)\n",
    "    # now calc prediction interval\n",
    "    train_mean = np.mean(X_train)\n",
    "    sum_dists = np.sum([(point-train_mean)**2 for point in X_train])\n",
    "    n = X_train.shape[0]\n",
    "    sum_dist_from_new = np.sum([(point-new_point)**2 for point in X_train]) \n",
    "    pred_error = var * (sum_dist_from_new/(n*sum_dists) + 1)\n",
    "    # assuming a 95% PI, the z_alpha/2 = 1.96\n",
    "    prediction_interval = (reg.predict([new_point]) - 1.96*np.sqrt(pred_error), \n",
    "                          reg.predict([new_point]) + 1.96*np.sqrt(pred_error))\n",
    "    PI_range = abs(prediction_interval[0] - prediction_interval[1])\n",
    "    return PI_range\n",
    "    \n",
    "    \n",
    "def inv_dist(x, y):\n",
    "    dist = np.linalg.norm(x-y)\n",
    "    # if 0 then it's the same point, no similarity bcuz we shouldn't count it\n",
    "    if (dist) == 0:\n",
    "        return 0\n",
    "    else: \n",
    "        return 1/dist\n",
    "\n",
    "def density_sampling(reg, X_train, y_train, data):\n",
    "    # we'll say beta = 1\n",
    "    # argmax is wrt  x\n",
    "    # if beta =1, then (1/data.shape[0]) is just some scalar and does not influence the argmax, don't need it\n",
    "    return(data[np.argmax([utility(reg, X_train, y_train, data[x,:])*np.sum([inv_dist(data[x,:],data[y,:]) for y in range(data.shape[0])]) for x in range(data.shape[0])])])\n",
    "\n",
    "# qbc\n",
    "# clf, train_X, train_y, test_X\n",
    "def qbc(clf, X, y, data):\n",
    "    # add bagging but for regressor\n",
    "    reg = BaggingRegressor(base_estimator=LinearRegression(), n_estimators=10, random_state=0)\n",
    "    reg.fit(X, y)\n",
    "    # maximize the variance between the predicted y's amongst all the estimators\n",
    "    pred_y_vects = []\n",
    "    for estimator in reg.estimators_:\n",
    "        pred_y_vect = estimator.predict(data)\n",
    "        pred_y_vects.append(pred_y_vect)\n",
    "    pred_y_vects = np.column_stack(pred_y_vects)\n",
    "    mean_y = np.mean(pred_y_vects, axis=1) # want this to be a 95 long 1d array\n",
    "    sum_dists = [(np.linalg.norm(pred_y_vects[:,i]-mean_y)) for i in range(pred_y_vects.shape[1])]\n",
    "    return data[np.argmax(sum_dists)]\n",
    "\n",
    "    \n",
    "def model_change(reg, X_train, y_train, data_X):\n",
    "    # need gradient, f-norm of gradient, how do I replace the class probabilities here? -- the PIs\n",
    "    # X, y are prev\n",
    "    # data_X are possible new points\n",
    "    all_x_gradients = []\n",
    "    poss_y = [0, 1]\n",
    "    # gradient for linear regression = just the coeffs?\n",
    "    for x in data_X:\n",
    "        # add point, compute new gradient\n",
    "        tenative_X = np.row_stack((X_train, x))\n",
    "        tenative_y = np.append(y_train, reg.predict([x]))\n",
    "        grad1 = (-2/tenative_X.shape[0]) * np.sum([tenative_X[i]*(tenative_y[i]-((reg.coef_*tenative_X[i])+reg.intercept_)) for i in range(tenative_X.shape[0])])\n",
    "        grad2 = (-2/tenative_X.shape[0]) * np.sum([tenative_y[i]-((reg.coef_*tenative_X[i])+reg.intercept_) for i in range(tenative_X.shape[0])])\n",
    "        grad = np.array(grad1, grad2)\n",
    "        # pred y given a new x\n",
    "        pred_y = reg.predict([x])\n",
    "        reg1 = clone(reg)\n",
    "        new_reg = reg1.fit([x], [pred_y])\n",
    "        p = mean_squared_error(new_reg.predict([x]), [np.mean(np.append(y_train, [pred_y]))])\n",
    "        mean_y = [np.mean(y_train)]\n",
    "        p = (np.sum(mean_squared_error(y_train, X_train.shape[0]* mean_y))+p)/ (X_train.shape[0] + 1)\n",
    "        #print(p, y_train, X_train.shape[0]*[mean_y])\n",
    "        x_grad = p*linalg.norm(grad)\n",
    "        all_x_gradients.append(x_grad)\n",
    "\n",
    "    return data_X[np.argmax(all_x_gradients)]\n",
    "\n",
    "\n",
    "# make this function flexible\n",
    "def simulations(NUM_SIMS, classification_data, TYPE_ls, CV, starting_point_number, number_of_iterations, DOE=False):\n",
    "    SEEDs = [3, 5, 6, 7, 14, 16, 19, 21, 23, 24] # 3, 5, 6, 7, 14, 16, 19, 21, 23, 24  is good\n",
    "    allTYPE_allsim_acc = []\n",
    "    # if DOE equal to True, then redo every sampling type in type list with the DOE start\n",
    "    for i in range(NUM_SIMS):\n",
    "        SEED = SEEDs[i]\n",
    "        random.seed(SEED)\n",
    "        orig_indices, orig_remaining_indices = [random.randrange(100) for i in range(starting_point_number)], [i for i in range (100)]\n",
    "        orig_remaining_indices = [elem for elem in orig_remaining_indices if elem not in orig_indices]\n",
    "        # randomly split the data into an init 5 points --same for all sims\n",
    "        indices, remaining_indices = orig_indices.copy(), orig_remaining_indices.copy()\n",
    "        # get the output accs\n",
    "        all_data_acc, clf = split_train_test(classification_data, indices, remaining_indices, SEED, CV)\n",
    "        all_data_accs = [[all_data_acc] for i in range(len(TYPE_ls))]\n",
    "        for i in range(len(TYPE_ls)):\n",
    "            # indices, remaining_indices,classification_data, clf, TYPE\n",
    "            all_data_accs[i]=one_sim(indices, remaining_indices, classification_data, clf, TYPE_ls[i], SEED, all_data_accs[i], CV)\n",
    "            indices, remaining_indices = orig_indices.copy(), orig_remaining_indices.copy()\n",
    "        # append everything -- these should be 2D lists at this point\n",
    "        allTYPE_allsim_acc.append(np.array(all_data_accs))\n",
    "        if DOE == True:\n",
    "            orig_remaining_indices =  [i for i in range (100)]\n",
    "            X,y = partition_data(classification_data, orig_remaining_indices)\n",
    "            orig_indices = list(d_optimality(starting_point_number, X, number_of_iterations, SEED))\n",
    "            orig_remaining_indices = [elem for elem in orig_remaining_indices if elem not in orig_indices]\n",
    "            # get the output accs\n",
    "            all_data_acc, clf = split_train_test(classification_data, indices, remaining_indices, SEED, CV)\n",
    "            all_data_accs = [[all_data_acc] for i in range(len(TYPE_ls))]\n",
    "            for i in range(len(TYPE_ls)):\n",
    "                # indices, remaining_indices,classification_data, clf, TYPE\n",
    "                all_data_accs[i]=one_sim(indices, remaining_indices, classification_data, clf, TYPE_ls[i], SEED, all_data_accs[i], CV)\n",
    "                indices, remaining_indices = orig_indices.copy(), orig_remaining_indices.copy()\n",
    "            # append everything -- these should be 2D lists at this point\n",
    "            allTYPE_allsim_acc.append(np.array(all_data_accs))\n",
    "        \n",
    "    allTYPE_allsim_acc = np.array(allTYPE_allsim_acc)  \n",
    "    indices = 50\n",
    "    # okay so now the graphing is fucked for DOE\n",
    "    \n",
    "    timepoints = [i for i in range(indices-starting_point_number+1)] \n",
    "    if DOE == True:\n",
    "        TYPE_ls = TYPE_ls + [i+\" DOE\" for i in TYPE_ls]\n",
    "        for i in range(len(TYPE_ls)):\n",
    "            if i >= len(TYPE_ls)/2:\n",
    "                j = int(i-len(TYPE_ls)/2)\n",
    "                print(j)\n",
    "                mean = (np.mean(allTYPE_allsim_acc[:,j][NUM_SIMS:], axis = 0))\n",
    "                std = (np.std(allTYPE_allsim_acc[:,j][NUM_SIMS:], axis = 0))\n",
    "                print(mean.shape, std.shape)\n",
    "                plt.errorbar(timepoints, mean, std, linestyle='None', marker='^',label=TYPE_ls[i])\n",
    "            else:\n",
    "                mean = (np.mean(allTYPE_allsim_acc[:,i][:NUM_SIMS], axis = 0))\n",
    "                std = (np.std(allTYPE_allsim_acc[:,i][:NUM_SIMS], axis = 0))\n",
    "                plt.errorbar(timepoints, mean, std, linestyle='None', marker='^',label=TYPE_ls[i])\n",
    "    else:\n",
    "        for i in range(len(TYPE_ls)):\n",
    "            mean = (np.mean(allTYPE_allsim_acc[:,i][:NUM_SIMS], axis = 0))\n",
    "            std = (np.std(allTYPE_allsim_acc[:,i][:NUM_SIMS], axis = 0))\n",
    "            plt.errorbar(timepoints, mean, std, linestyle='None', marker='^',label=TYPE_ls[i])\n",
    "    plt.xlabel(\"Number of Rounds\")\n",
    "    plt.ylabel(\"Mean Squared Error\")\n",
    "    plt.legend()\n",
    "    #plt.savefig(title) \n",
    "    #plt.close()\n",
    "    plt.show()"
   ]
  },
  {
   "cell_type": "code",
   "execution_count": 2,
   "id": "cadec6bc",
   "metadata": {},
   "outputs": [
    {
     "data": {
      "image/png": "[encoded data removed]",
      "text/plain": [
       "<Figure size 432x288 with 1 Axes>"
      ]
     },
     "metadata": {
      "needs_background": "light"
     },
     "output_type": "display_data"
    }
   ],
   "source": [
    "regression_data =np.loadtxt(open(\"regression.csv\", \"rb\"), delimiter=\",\", skiprows=1)\n",
    "TYPE_ls = [\"random\", \"uncertainty\", \"density\", \"qbc\", \"model change\"]\n",
    "starting_point_number = 5 \n",
    "number_of_iterations = 10000\n",
    "simulations(10, regression_data, TYPE_ls, False, starting_point_number, number_of_iterations, False)"
   ]
  },
  {
   "cell_type": "markdown",
   "id": "acdadff7",
   "metadata": {},
   "source": [
    "# describe each method with a few sentences\n",
    "I implemented uncertainty sampling by using the prediction interval for linear regression. I then checked the size of the range of each interval and returned the datapoint that maximized the size of the prediction interval. If the model is more uncertain about a particular point, the PI will be larger, and vice versa if more certain. In this way you can think of my implementation as an adaption of the least confident method.\n",
    "\n",
    "For density sampling I mostly reused my old code and simply changed out the utility function. My utility function now spits out the size of the prediction interval for the model given an input datapoint. Again, this can be thought as least confident, my adaptation of using uncertainty for this situation. \n",
    "\n",
    "For query by committee I maintained a set of 10 bagging regressors at each point in time. At each point in time, I trained the regressors on boostrapped subsets of the seen data, and then got the predicted y output of each regressor on all the unseen data. After doing this for all 10 regressors, I determined the mean predicted y output for each datapoint and then I choose the datapoint that had the largest total distance between the predicted ys for each estimator and the predicted y for the datapoint. In this way I choose the datapoint the bagging regressors are least sure about.\n",
    "\n",
    "For Expected Model Change I calculated the gradient as described in the notes and used the mean of the MSE for all the seen points plus the new datapoint and it's predicted y as a proxy for summing over all p(y_i |x) for the seen data plus the new datapoint. Then I chose the datapoint that maximized that equation, as said in the notes. \n",
    "\n",
    "\n",
    "    "
   ]
  },
  {
   "cell_type": "code",
   "execution_count": 3,
   "id": "2b1cb247",
   "metadata": {},
   "outputs": [
    {
     "data": {
      "image/png": "[encoded data removed]",
      "text/plain": [
       "<Figure size 432x288 with 1 Axes>"
      ]
     },
     "metadata": {
      "needs_background": "light"
     },
     "output_type": "display_data"
    }
   ],
   "source": [
    "#  now do this again but with 5 fold cross validation\n",
    "regression_data =np.loadtxt(open(\"regression.csv\", \"rb\"), delimiter=\",\", skiprows=1)\n",
    "TYPE_ls = [\"random\", \"uncertainty\", \"density\", \"qbc\", \"model change\"]\n",
    "starting_point_number = 5\n",
    "number_of_iterations = 1000\n",
    "simulations(10, regression_data, TYPE_ls, True, starting_point_number, number_of_iterations, False)"
   ]
  },
  {
   "cell_type": "code",
   "execution_count": 26,
   "id": "597871b7",
   "metadata": {},
   "outputs": [
    {
     "name": "stderr",
     "output_type": "stream",
     "text": [
      "No handles with labels found to put in legend.\n"
     ]
    },
    {
     "data": {
      "image/png": "[encoded data removed]",
      "text/plain": [
       "<Figure size 432x288 with 1 Axes>"
      ]
     },
     "metadata": {
      "needs_background": "light"
     },
     "output_type": "display_data"
    }
   ],
   "source": [
    "# then implement a DOE stategy (any one that was mentioned)\n",
    "def d_optimality(k, X, number_of_iterations, SEED):\n",
    "    random.seed(SEED)\n",
    "    dets, datasets = [], []\n",
    "    # do this some arbitrary number of times, let's just play with 100 different combos and choose \n",
    "    for i in range(number_of_iterations):\n",
    "        # randomly sample without replacement k many times\n",
    "        #print(len(X), k)\n",
    "        indices = np.random.choice(len(X), size=k, replace=False)\n",
    "        ten_x = X[indices, :]\n",
    "        datasets.append(indices)\n",
    "        # then compute determinant\n",
    "        dets.append(np.linalg.det(ten_x.T @ ten_x))\n",
    "    return datasets[np.argmax(dets)]\n",
    "\n",
    "# 2b.  Generate a plot comparing the performance (MSE of unobserved instances) of \n",
    "# regression modeIs \n",
    "# after 30 observations on the regression dataset using the myopic active learning selection strategies in \n",
    "# Part 1 and your implemented DOE strategy from 2a.  \n",
    "# If you incorporate any randomness into 2a.  Run 10 simulations of each method. \n",
    "def one_sim(indices, remaining_indices, classification_data, clf, TYPE, SEED, all_data_accs, CV):\n",
    "    while len(indices) < 30:\n",
    "        indices, remaining_indices = update_indices(indices, remaining_indices,classification_data, clf, TYPE)\n",
    "        # now I need to maintain some if statements\n",
    "        # retrain each model \n",
    "        all_data_acc, clf = split_train_test(classification_data, indices, remaining_indices, SEED, CV)\n",
    "        all_data_accs.append(all_data_acc)\n",
    "    return (all_data_accs)\n",
    "\n",
    "\n",
    "def boxplot_simulations(NUM_SIMS, classification_data, TYPE_ls, CV, number_of_iterations):\n",
    "    SEEDs = [3, 5, 6, 7, 14, 16, 19, 21, 23, 24] # 3, 5, 6, 7, 14, 16, 19, 21, 23, 24  is good\n",
    "    allTYPE_allsim_acc = []\n",
    "    DOE_MSEs = []\n",
    "    for i in range(NUM_SIMS):\n",
    "        SEED = SEEDs[i]\n",
    "        random.seed(SEED)\n",
    "        orig_indices, orig_remaining_indices = [random.randrange(100) for i in range(5)], [i for i in range (100)]\n",
    "        orig_remaining_indices = [elem for elem in orig_remaining_indices if elem not in orig_indices]\n",
    "        # randomly split the data into an init 5 points --same for all sims\n",
    "        indices, remaining_indices = orig_indices.copy(), orig_remaining_indices.copy()\n",
    "        # get the output accs\n",
    "        all_data_acc, clf = split_train_test(classification_data, indices, remaining_indices, SEED, CV)\n",
    "        all_data_accs = [[all_data_acc] for i in range(len(TYPE_ls))]\n",
    "        for i in range(len(TYPE_ls)):\n",
    "            # indices, remaining_indices,classification_data, clf, TYPE\n",
    "            all_data_accs[i]=one_sim(indices, remaining_indices, classification_data, clf, TYPE_ls[i], SEED, all_data_accs[i], CV)\n",
    "            indices, remaining_indices = orig_indices.copy(), orig_remaining_indices.copy()\n",
    "        # append everything -- these should be 2D lists at this point\n",
    "        allTYPE_allsim_acc.append(np.array(all_data_accs))\n",
    "        # then do DOE\n",
    "        k = 30\n",
    "        orig_remaining_indices = [i for i in range (100)]\n",
    "        X, y = partition_data(classification_data, orig_remaining_indices)\n",
    "        indices = d_optimality(k, X, number_of_iterations, SEED)\n",
    "        # need to be able to partition the dataset \n",
    "        new_X, new_y = partition_data(classification_data, indices)\n",
    "        orig_remaining_indices = [elem for elem in orig_remaining_indices if elem not in indices]\n",
    "        remaining_X, remaining_y = partition_data(classification_data, orig_remaining_indices)\n",
    "        # use these points to fit the reg\n",
    "        reg = lr_regressor(new_X, new_y, SEED)\n",
    "        # then calculate MSE on rest of the dataset -- append this to the list of MSEs\n",
    "        DOE_MSEs.append(mean_squared_error(remaining_y, reg.predict(remaining_X)))\n",
    "        \n",
    "    allTYPE_allsim_acc = np.array(allTYPE_allsim_acc)  \n",
    "    #raise error\n",
    "    # now rip this out and change it to a box and whisker\n",
    "    # now grab the specifics for each\n",
    "    # grab the last point for each type across all simulations\n",
    "    data = (allTYPE_allsim_acc[:,:, -1])\n",
    "    data = np.column_stack((data, DOE_MSEs))\n",
    "    TYPE_ls = TYPE_ls + [\"DOE\"]\n",
    "    plt.boxplot(data, labels=TYPE_ls)\n",
    "    plt.xlabel(\"Labels\")\n",
    "    plt.ylabel(\"Mean Squared Error\")\n",
    "    plt.legend()\n",
    "    #plt.savefig(title) \n",
    "    #plt.close()\n",
    "    plt.show()\n",
    "\n",
    "# set k=30, and pick 30 with each \n",
    "regression_data =np.loadtxt(open(\"regression.csv\", \"rb\"), delimiter=\",\", skiprows=1)\n",
    "TYPE_ls = [\"random\", \"uncertainty\", \"density\", \"qbc\", \"model change\"]\n",
    "number_of_iterations = 1000000\n",
    "#title = \"MSE_HW3_3.pdf\"\n",
    "boxplot_simulations(10, regression_data, TYPE_ls, False, number_of_iterations)\n",
    "# he wants a box and whisker plot here"
   ]
  },
  {
   "cell_type": "code",
   "execution_count": 7,
   "id": "67530ad4",
   "metadata": {},
   "outputs": [
    {
     "name": "stdout",
     "output_type": "stream",
     "text": [
      "0\n",
      "(41,) (41,)\n"
     ]
    },
    {
     "data": {
      "image/png": "[encoded data removed]",
      "text/plain": [
       "<Figure size 432x288 with 1 Axes>"
      ]
     },
     "metadata": {
      "needs_background": "light"
     },
     "output_type": "display_data"
    }
   ],
   "source": [
    "# Run active learning simulations using uncertainty sampling and your favorite regressor on the \n",
    "# regression dataset.  For one set of simulations, initialize with 10 randomly selected instances.  \n",
    "# For another set of simulations, initialize with 10 DOE selected instances.  \n",
    "# Continue both types of simulations until 50 instances are observed.  \n",
    "# In a single plot, show the mean square error (and standard deviation) of \n",
    "# predictions on the unobserved set as a function of the number of instances observed.\n",
    "\n",
    "regression_data =np.loadtxt(open(\"regression.csv\", \"rb\"), delimiter=\",\", skiprows=1)\n",
    "TYPE_ls = [\"uncertainty\"]\n",
    "starting_point_number = 10\n",
    "number_of_iterations = 100000\n",
    "#title = \"MSE_HW3_4.pdf\"\n",
    "simulations(10, regression_data, TYPE_ls, True, starting_point_number, number_of_iterations, True)"
   ]
  },
  {
   "cell_type": "code",
   "execution_count": 21,
   "id": "a7440b36",
   "metadata": {},
   "outputs": [
    {
     "name": "stderr",
     "output_type": "stream",
     "text": [
      "No handles with labels found to put in legend.\n"
     ]
    },
    {
     "data": {
      "image/png": "[encoded data removed]",
      "text/plain": [
       "<Figure size 432x288 with 1 Axes>"
      ]
     },
     "metadata": {
      "needs_background": "light"
     },
     "output_type": "display_data"
    }
   ],
   "source": [
    "# 4a.  Generate your own regression dataset of 100 instances where the performance of active learning in \n",
    "# part 2 (choose your favorite AL method) is better than the performance of DOE.  \n",
    "# Show MSE for both methods at 30 observations. -- inject high variance and DOE should crumble\n",
    "from sklearn.datasets import make_regression\n",
    "X,y  = make_regression(n_samples=100, n_features=10, n_informative=10, n_targets=1, bias=0.0, \n",
    "                                 effective_rank=10, tail_strength=2, noise=1.0, shuffle=True, coef=False, \n",
    "                                 random_state=6)\n",
    "y = np.reshape(y, (100, 1))    \n",
    "data = np.hstack((X, y))\n",
    "# set k=30, and pick 30 with each \n",
    "TYPE_ls = [\"uncertainty\"]\n",
    "number_of_iterations = 1000\n",
    "#title = \"MSE_HW3_5.pdf\"\n",
    "boxplot_simulations(10, data, TYPE_ls, False, number_of_iterations)"
   ]
  },
  {
   "cell_type": "markdown",
   "id": "f01f1442",
   "metadata": {},
   "source": [
    "I jacked up the effective_rank, noise, and tail strength, and this seems to have messed up the D-optimality. The noise just gives better separation between the slight difference in the models, the thing that kills D-optimality is the imbalance in the noise through increasing the tail strength. The high effective rank also seems to help by making the regressor work harder on the data, but this is more constant amongst the datapoints it seems, so it isn't enough alone. The inconstant noise between datapoints violates the assumptions of D-optimaliity and makes it worse."
   ]
  },
  {
   "cell_type": "code",
   "execution_count": 24,
   "id": "15a90008",
   "metadata": {},
   "outputs": [
    {
     "name": "stderr",
     "output_type": "stream",
     "text": [
      "No handles with labels found to put in legend.\n"
     ]
    },
    {
     "data": {
      "image/png": "[encoded data removed]",
      "text/plain": [
       "<Figure size 432x288 with 1 Axes>"
      ]
     },
     "metadata": {
      "needs_background": "light"
     },
     "output_type": "display_data"
    }
   ],
   "source": [
    "# 4b.  Generate your own regression dataset of 100 instances where the performance of active learning in \n",
    "# part 2 (choose the same AL method as in part 4a) is worse than the performance of DOE.  Show MSE for both \n",
    "# methods at 30 observations.\n",
    "# lol this part is easy\n",
    "\n",
    "from sklearn.datasets import make_regression\n",
    "X,y  = make_regression(n_samples=100, n_features=10, n_informative=10, n_targets=1, bias=0.0, \n",
    "                                 effective_rank=1, tail_strength=0.0, noise=1.0, shuffle=True, coef=False, \n",
    "                                 random_state=6)\n",
    "y = np.reshape(y, (100, 1))    \n",
    "data = np.hstack((X, y))\n",
    "# set k=30, and pick 30 with each \n",
    "TYPE_ls = [\"uncertainty\"]\n",
    "number_of_iterations = 10000\n",
    "#title = \"MSE_HW3_6.pdf\"\n",
    "boxplot_simulations(10, data, TYPE_ls, False, number_of_iterations)\n"
   ]
  },
  {
   "cell_type": "markdown",
   "id": "6bc6a056",
   "metadata": {},
   "source": [
    "4c.  Comment on the differences in the datasets and why you think those differences contributed to differences in learning performance.\n",
    "\n",
    "Here it's pretty much the opposite, I gave it no tail so the noise is more or less constant between datapoints. I also lowered the effective rank, which seems to make the results more clear. Now DOE consistently beats uncertainty because its assumptions are valid, and so it performs as expected. "
   ]
  }
 ],
 "metadata": {
  "kernelspec": {
   "display_name": "Python 3 (ipykernel)",
   "language": "python",
   "name": "python3"
  },
  "language_info": {
   "codemirror_mode": {
    "name": "ipython",
    "version": 3
   },
   "file_extension": ".py",
   "mimetype": "text/x-python",
   "name": "python",
   "nbconvert_exporter": "python",
   "pygments_lexer": "ipython3",
   "version": "3.8.11"
  }
 },
 "nbformat": 4,
 "nbformat_minor": 5
}
