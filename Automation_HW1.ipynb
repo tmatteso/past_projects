{
 "cells": [
  {
   "cell_type": "code",
   "execution_count": 3,
   "id": "121eca4a",
   "metadata": {},
   "outputs": [],
   "source": [
    "from sklearn.linear_model import LogisticRegression\n",
    "from sklearn.ensemble import RandomForestClassifier\n",
    "from sklearn.ensemble import BaggingClassifier\n",
    "from numpy import linalg\n",
    "from scipy import stats\n",
    "from sklearn.model_selection import KFold\n",
    "import matplotlib.pyplot as plt\n",
    "import numpy as np\n",
    "import random\n",
    "from math import log2\n",
    "\n",
    "# rip out the CV!!\n",
    "\n",
    "def lr_classifier(X,y, SEED):\n",
    "#     clf = RandomForestClassifier(max_depth=2, random_state=0)\n",
    "#     clf.fit(X, y)\n",
    "    #print(SEED)\n",
    "    clf = LogisticRegression(solver=\"liblinear\", random_state=SEED)\n",
    "    clf.fit(X, y)\n",
    "    return clf\n",
    "\n",
    "def partition_data(data, indices):\n",
    "    X, y = [], []\n",
    "    for index in indices:\n",
    "        X.append(data[index, :-1])\n",
    "        y.append(data[index, -1])\n",
    "    return np.array(X), np.array(y)\n",
    "\n",
    "# find the pseudocode in the notes\n",
    "def uncertainty_sampling(clf, data):\n",
    "    # least certain is easiest\n",
    "    # I assume --shape = n*2\n",
    "    print (clf.predict_proba(data))\n",
    "    return data[np.argmax(1- np.max(clf.predict_proba(data), axis=1))]\n",
    "\n",
    "\n",
    "def mellow_uncertainty_sampling(clf, data):\n",
    "    # least certain is easiest\n",
    "    # I assume --shape = n*2\n",
    "    poss_x = (1- np.max(clf.predict_proba(data), axis=1))\n",
    "    choose_from = []\n",
    "    threshold = np.mean(poss_x)\n",
    "    for i in range(len(poss_x)):\n",
    "        if poss_x[i] > threshold:\n",
    "            choose_from.append(i)\n",
    "    # randomly choose x with val above threshold\n",
    "    return data[random.choice(choose_from)]\n",
    "\n",
    "\n",
    "def utility(clf, x):\n",
    "    # the np.min is equiv to 1 - np.max\n",
    "    return (np.min(clf.predict_proba([x])[0]))\n",
    "    \n",
    "    \n",
    "def inv_dist(x, y):\n",
    "    dist = np.linalg.norm(x-y)\n",
    "    # if 0 then it's the same point, no similarity bcuz we shouldn't count it\n",
    "    if (dist) == 0:\n",
    "        return 0\n",
    "    else: \n",
    "        return 1/dist\n",
    "def density_sampling(clf, data):\n",
    "    # we'll say beta = 1\n",
    "    # argmax is wrt  x\n",
    "    # if beta =1, then (1/data.shape[0]) is just some scalar and does not influence the argmax, don't need it\n",
    "    return(data[np.argmax([utility(clf, data[x,:])*np.sum([inv_dist(data[x,:],data[y,:]) for y in range(data.shape[0])]) for x in range(data.shape[0])])])\n",
    "    #return np.argmax([utility(clf, [data[x,:]])*(1/data.shape[0])*(np.sum([dist(data[x,:],data[y,:]) for y in range(data.shape[0])]) for x in range(data.shape[0])])\n",
    "    #np.argmax(utility(x)(1/data_Size)^{beta}(\\sum{x in data} dist(x, x')^{beta}))\n",
    "\n",
    "\n",
    "    \n",
    "def qbc(clf, X, y, data):\n",
    "    # add bagging\n",
    "    clf = BaggingClassifier(base_estimator=LogisticRegression(), n_estimators=10, random_state=0)\n",
    "    clf.fit(X, y)\n",
    "    # if |score| is low then close to dec boundary, uncertain\n",
    "    # checked with Kangas, this checks out\n",
    "    return data[(np.argmin(abs(clf.decision_function(data))))]\n",
    "\n",
    "def model_change(clf, X, y, data_X,):\n",
    "    # X, y are prev\n",
    "    # data_X are possible new points\n",
    "    all_x_gradients = []\n",
    "    poss_y = [0, 1]\n",
    "    #https://stats.stackexchange.com/questions/219241/gradient-for-logistic-loss-function\n",
    "    for x in data_X:\n",
    "        p = clf.predict_proba([x])[0]\n",
    "        p1 = 1/ (1+np.e**(-np.dot(clf.coef_,x.T)))\n",
    "        grad1 = p1 - 0\n",
    "        grad2 = p1 - 1\n",
    "        x_grad = p[0]*linalg.norm(grad1) + p[1]*linalg.norm(grad2)\n",
    "        all_x_gradients.append(x_grad)\n",
    "\n",
    "    return data_X[np.argmax(all_x_gradients)]\n",
    "    \n",
    "def update_indices(indices, remaining_indices, dataset, clf, TYPE):\n",
    "    # need to apply the remaining_indices to the data\n",
    "    data_X, data_y = partition_data(dataset, remaining_indices)\n",
    "    if TYPE == \"random\":\n",
    "        next_index = random.choice(remaining_indices)\n",
    "    elif TYPE == \"uncertainty\":\n",
    "        next_datapoint = uncertainty_sampling(clf, data_X)\n",
    "        next_index = np.where(dataset[:, :-1]==next_datapoint)[0][0]\n",
    "    elif TYPE == \"density\":\n",
    "        next_datapoint = density_sampling(clf, data_X)\n",
    "        next_index = np.where(dataset[:, :-1]==next_datapoint)[0][0]\n",
    "    elif TYPE == \"qbc\":\n",
    "        X, y = partition_data(dataset, indices)\n",
    "        next_datapoint = qbc(clf, X, y, data_X)\n",
    "        next_index = np.where(dataset[:, :-1]==next_datapoint)[0][0]\n",
    "    elif TYPE == \"model change\":\n",
    "        X, y = partition_data(dataset, indices)\n",
    "        next_datapoint = model_change(clf, X, y, data_X)\n",
    "        next_index = np.where(dataset[:, :-1]==next_datapoint)[0][0]\n",
    "    elif TYPE == \"mellow uncertainty\":\n",
    "        next_datapoint = mellow_uncertainty_sampling(clf, data_X)\n",
    "        next_index = np.where(dataset[:, :-1]==next_datapoint)[0][0]\n",
    "    indices.append(next_index)\n",
    "    remaining_indices.remove(next_index)\n",
    "    return indices, remaining_indices\n",
    "\n",
    "def train_classifier(c_train_X, c_train_y, c_test_X, c_test_y, SEED):\n",
    "    rf_c = lr_classifier(c_train_X, c_train_y, SEED)\n",
    "    all_data_acc = rf_c.score(c_test_X, c_test_y)\n",
    "    #CV_acc = np.mean(split_accs)\n",
    "    return all_data_acc, rf_c\n",
    "\n",
    "def split_train_test(classification_data, indices, remaining_indices, SEED):\n",
    "    c_train_X, c_train_y = partition_data(classification_data, indices)\n",
    "    c_test_X, c_test_y = partition_data(classification_data, remaining_indices)\n",
    "\n",
    "    all_data_acc, clf = train_classifier(c_train_X, c_train_y, c_test_X, c_test_y, SEED)\n",
    "    return all_data_acc, clf\n",
    "\n",
    "def one_sim(indices, remaining_indices, classification_data, clf, TYPE, SEED, all_data_accs):\n",
    "    while len(indices) < 50:\n",
    "        indices, remaining_indices = update_indices(indices, remaining_indices,classification_data, clf, TYPE)\n",
    "        # now I need to maintain some if statements\n",
    "        # retrain each model \n",
    "        all_data_acc, clf = split_train_test(classification_data, indices, remaining_indices, SEED)\n",
    "        all_data_accs.append(all_data_acc)\n",
    "    return (all_data_accs)\n",
    "    \n",
    "# make this function flexible\n",
    "def simulations(NUM_SIMS, classification_data, TYPE_ls):\n",
    "    SEEDs = [3, 5, 6, 7, 14, 16, 19, 21, 23, 24] # 3, 5, 6, 7, 14, 16, 19, 21, 23, 24   is good\n",
    "    allTYPE_allsim_acc = []\n",
    "    for i in range(NUM_SIMS):\n",
    "        SEED = SEEDs[i]\n",
    "        random.seed(SEED)\n",
    "        orig_indices, orig_remaining_indices = [random.randrange(100) for i in range(5)], [i for i in range (100)]\n",
    "        orig_remaining_indices = [elem for elem in orig_remaining_indices if elem not in orig_indices]\n",
    "        # randomly split the data into an init 5 points --same for all sims\n",
    "        indices, remaining_indices = orig_indices.copy(), orig_remaining_indices.copy()\n",
    "        # get the output accs\n",
    "        all_data_acc, clf = split_train_test(classification_data, indices, remaining_indices, SEED)\n",
    "        all_data_accs = [[all_data_acc] for i in range(len(TYPE_ls))]\n",
    "        for i in range(len(TYPE_ls)):\n",
    "            # indices, remaining_indices,classification_data, clf, TYPE\n",
    "            all_data_accs[i] = one_sim(indices, remaining_indices, classification_data, clf, TYPE_ls[i], SEED, all_data_accs[i])\n",
    "            indices, remaining_indices = orig_indices.copy(), orig_remaining_indices.copy()\n",
    "        # append everything -- these should be 2D lists at this point\n",
    "        allTYPE_allsim_acc.append(np.array(all_data_accs))\n",
    "        \n",
    "    allTYPE_allsim_acc = np.array(allTYPE_allsim_acc)  \n",
    "    indices = 50\n",
    "    timepoints = [i for i in range(indices-4)] \n",
    "    # now grab the specifics for each \n",
    "    for i in range(len(TYPE_ls)):\n",
    "        mean = (np.mean(allTYPE_allsim_acc[:,i], axis = 0))\n",
    "        std = (np.std(allTYPE_allsim_acc[:,i], axis = 0))\n",
    "        plt.errorbar(timepoints, mean, std, linestyle='None', marker='^',label=TYPE_ls[i])\n",
    "    \n",
    "    plt.xlabel(\"Number of Rounds\")\n",
    "    plt.ylabel(\"Accuracy\")\n",
    "    plt.legend()\n",
    "    #plt.savefig(\"Accuracy.pdf\") \n",
    "    #plt.close()\n",
    "    plt.show()\n",
    "    \n",
    "\n",
    "\n"
   ]
  },
  {
   "cell_type": "markdown",
   "id": "73e57fcb",
   "metadata": {},
   "source": [
    "1A) In no more than a few sentences, tell what you used for your base learner and describe how you estimated uncertainty for that learner.\n",
    "\n",
    "I used Logistic regression as my base learner and I estimated uncertainty through the least confident method. I simply found the equation in the slides and implemented it via list comprehension.\n"
   ]
  },
  {
   "cell_type": "markdown",
   "id": "7817b66a",
   "metadata": {},
   "source": [
    "1B) In no more than a few sentences, describe how you estimated density in your selection method\n",
    "\n",
    "I estimated density with the equation given in the slides, using inverse distance as my similarity function and least confident uncertainty sampling as my utility function. Inverse distance assigns points close together higher scores, and those farther apart lower scores. I added a conditional to assign a zero score to duplicate points (those where the distance is zero). My least confident uncertainty utility function uses the min of predict_proba because in the binary classification case (i.e., the data given),  it and (1 - most_likely) class are the same. "
   ]
  },
  {
   "cell_type": "markdown",
   "id": "f2e3c2e3",
   "metadata": {},
   "source": [
    "1C) done-- no description required"
   ]
  },
  {
   "cell_type": "code",
   "execution_count": 2,
   "id": "558dbb10",
   "metadata": {},
   "outputs": [
    {
     "ename": "FileNotFoundError",
     "evalue": "[Errno 2] No such file or directory: 'classification.csv'",
     "output_type": "error",
     "traceback": [
      "\u001b[0;31m---------------------------------------------------------------------------\u001b[0m",
      "\u001b[0;31mFileNotFoundError\u001b[0m                         Traceback (most recent call last)",
      "\u001b[0;32m/var/folders/86/ytzggnn50y3gt2z3d8dh6bm80000gn/T/ipykernel_45175/2005617060.py\u001b[0m in \u001b[0;36m<module>\u001b[0;34m\u001b[0m\n\u001b[1;32m      1\u001b[0m \u001b[0;31m# import the txt files\u001b[0m\u001b[0;34m\u001b[0m\u001b[0;34m\u001b[0m\u001b[0m\n\u001b[0;32m----> 2\u001b[0;31m \u001b[0mclassification_data\u001b[0m \u001b[0;34m=\u001b[0m\u001b[0mnp\u001b[0m\u001b[0;34m.\u001b[0m\u001b[0mloadtxt\u001b[0m\u001b[0;34m(\u001b[0m\u001b[0mopen\u001b[0m\u001b[0;34m(\u001b[0m\u001b[0;34m\"classification.csv\"\u001b[0m\u001b[0;34m,\u001b[0m \u001b[0;34m\"rb\"\u001b[0m\u001b[0;34m)\u001b[0m\u001b[0;34m,\u001b[0m \u001b[0mdelimiter\u001b[0m\u001b[0;34m=\u001b[0m\u001b[0;34m\",\"\u001b[0m\u001b[0;34m,\u001b[0m \u001b[0mskiprows\u001b[0m\u001b[0;34m=\u001b[0m\u001b[0;36m1\u001b[0m\u001b[0;34m)\u001b[0m\u001b[0;34m\u001b[0m\u001b[0;34m\u001b[0m\u001b[0m\n\u001b[0m\u001b[1;32m      3\u001b[0m \u001b[0;34m\u001b[0m\u001b[0m\n\u001b[1;32m      4\u001b[0m \u001b[0mTYPE_ls\u001b[0m \u001b[0;34m=\u001b[0m  \u001b[0;34m[\u001b[0m\u001b[0;34m\"random\"\u001b[0m\u001b[0;34m,\u001b[0m \u001b[0;34m\"uncertainty\"\u001b[0m\u001b[0;34m,\u001b[0m \u001b[0;34m\"density\"\u001b[0m\u001b[0;34m,\u001b[0m \u001b[0;34m\"qbc\"\u001b[0m\u001b[0;34m,\u001b[0m \u001b[0;34m\"model change\"\u001b[0m\u001b[0;34m]\u001b[0m\u001b[0;34m\u001b[0m\u001b[0;34m\u001b[0m\u001b[0m\n\u001b[1;32m      5\u001b[0m \u001b[0msimulations\u001b[0m\u001b[0;34m(\u001b[0m\u001b[0;36m10\u001b[0m\u001b[0;34m,\u001b[0m \u001b[0mclassification_data\u001b[0m\u001b[0;34m,\u001b[0m \u001b[0mTYPE_ls\u001b[0m\u001b[0;34m)\u001b[0m\u001b[0;34m\u001b[0m\u001b[0;34m\u001b[0m\u001b[0m\n",
      "\u001b[0;31mFileNotFoundError\u001b[0m: [Errno 2] No such file or directory: 'classification.csv'"
     ]
    }
   ],
   "source": [
    "# import the txt files\n",
    "classification_data =np.loadtxt(open(\"classification.csv\", \"rb\"), delimiter=\",\", skiprows=1)\n",
    "\n",
    "TYPE_ls =  [\"random\", \"uncertainty\", \"density\", \"qbc\", \"model change\"]\n",
    "simulations(10, classification_data, TYPE_ls)"
   ]
  },
  {
   "cell_type": "markdown",
   "id": "9211a260",
   "metadata": {},
   "source": [
    "2a.  Convert one of the methods implemented in Part 1 from an aggressive to a mellow method and describe your method for converting it to a mellow modality.\n",
    "\n",
    "I converted my least confident uncertainty sampling method into a mellow method. I did this by determining the mean uncertainty of the datapoints given, and then randomly choosing any point that had uncertainty greater than the mean. This way the method no longer agressively chooses the most uncertain sample, but rather any random uncertain datapoint with uncertainty greater than the mean."
   ]
  },
  {
   "cell_type": "code",
   "execution_count": 930,
   "id": "407c5c76",
   "metadata": {},
   "outputs": [
    {
     "data": {
      "image/png": "[encoded data removed]",
      "text/plain": [
       "<Figure size 432x288 with 1 Axes>"
      ]
     },
     "metadata": {
      "needs_background": "light"
     },
     "output_type": "display_data"
    }
   ],
   "source": [
    "TYPE_ls =  [\"random\", \"uncertainty\", \"mellow uncertainty\"]\n",
    "simulations(10, classification_data, TYPE_ls)"
   ]
  },
  {
   "cell_type": "code",
   "execution_count": 1115,
   "id": "8e904854",
   "metadata": {},
   "outputs": [
    {
     "data": {
      "image/png": "[encoded data removed]",
      "text/plain": [
       "<Figure size 432x288 with 1 Axes>"
      ]
     },
     "metadata": {
      "needs_background": "light"
     },
     "output_type": "display_data"
    },
    {
     "data": {
      "image/png": "[encoded data removed]",
      "text/plain": [
       "<Figure size 432x288 with 1 Axes>"
      ]
     },
     "metadata": {
      "needs_background": "light"
     },
     "output_type": "display_data"
    }
   ],
   "source": [
    "from sklearn.datasets import make_classification\n",
    "from sklearn.datasets import make_blobs\n",
    "\n",
    "# even though I assign a psuedorandom seed here, it doesn't seem to affect the generation of the blobs\n",
    "# weird, doesn't always init 5 points that log reg likes, but when it does it generally produces a similar pattern\n",
    "# -- verified through many, many trials\n",
    "def make_datasets():\n",
    "    SEED = 6\n",
    "    random.seed(SEED)\n",
    "    # std = 15 loooks good\n",
    "    X, y = make_blobs(n_samples=100, n_features=20, centers=3, cluster_std=15)\n",
    "    y = np.reshape(y, (100, 1))\n",
    "    data = np.hstack((X, y))\n",
    "    TYPE_ls = [\"uncertainty\", \"density\"]\n",
    "    simulations(10, data, TYPE_ls)\n",
    "    plt.close()\n",
    "    X, y = make_blobs(n_samples=100, n_features=20, centers=20)\n",
    "    y = np.reshape(y, (100, 1))\n",
    "    data = np.hstack((X, y))\n",
    "    simulations(10, data, TYPE_ls)\n",
    "    \n",
    "make_datasets()"
   ]
  },
  {
   "cell_type": "markdown",
   "id": "845ddbc6",
   "metadata": {},
   "source": [
    "3A) Generate dataset where uncertainty sampling performs better than density, describe in a few sentences how you generated your data.\n",
    "\n",
    "I used make_blobs() from sklearn, giving the data structure with 3 centers for the 20 features. I assigned a variance of 15 for each blob, as this seemed to be right around a narrow range where density could consistently beat uncertainty (12-15 std)."
   ]
  },
  {
   "cell_type": "markdown",
   "id": "7cd6dd37",
   "metadata": {},
   "source": [
    "3B) Generate dataset where density sampling performs better than uncertainty, describe in a few sentences how you generated your data.\n",
    "\n",
    "I used make_blobs() from sklearn, giving the data structure with 20 centers for the 20 features. I assigned no special variance and left it as default."
   ]
  },
  {
   "cell_type": "markdown",
   "id": "02c92865",
   "metadata": {},
   "source": [
    "3c. Comment on the differences in the datasets and why you think those differences contributed to differences in learning performance.\n",
    "\n",
    "The first dataset sits in a very small sweet spot I observed with make_blobs(): just enough centers for the two methods to perform similarly, with just enough variance for density to benefit from the structure without the structure being too easy. If I input only 3 clusters with low (default) variance, the task is trivial and either method converges to perfection essientially instantly. If I input too much std, the blobs are pretty much just pure noise and the two methods perform pretty much the same (i.e. not very well). There is just enough structure for density's awareness to help it, without it being too easy that uncertainty figures it out at the same time. \n",
    "\n",
    "The second dataset was much easier to produce, I simply put in a ton of centers to makeblobs() without additional classes. Because the dataset is still a binary classification problem, all the additional structure seems to distract density without harming uncertainty. You can actually increase the number of centers even more and density will do even worse. The key here really was to just overwhelm density with counterproductive structure in the data to force the in-built similarity function to work against it. \n",
    "\n"
   ]
  }
 ],
 "metadata": {
  "kernelspec": {
   "display_name": "Python 3 (ipykernel)",
   "language": "python",
   "name": "python3"
  },
  "language_info": {
   "codemirror_mode": {
    "name": "ipython",
    "version": 3
   },
   "file_extension": ".py",
   "mimetype": "text/x-python",
   "name": "python",
   "nbconvert_exporter": "python",
   "pygments_lexer": "ipython3",
   "version": "3.9.10"
  }
 },
 "nbformat": 4,
 "nbformat_minor": 5
}
