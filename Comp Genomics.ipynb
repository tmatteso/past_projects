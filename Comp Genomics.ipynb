{
 "cells": [
  {
   "cell_type": "code",
   "execution_count": null,
   "id": "7c1bfb35",
   "metadata": {},
   "outputs": [],
   "source": [
    "# You may define any helper functions for Needleman-Wunsch algorithm here\n",
    "def init_NW(seq1, seq2, M, m ,g):\n",
    "    # first create an len(seq1 by len(seq2) matrix\n",
    "    mat = np.array([[0 for i in range(len(seq2)+1)] for j in range(len(seq1)+1)])\n",
    "    # then populate the leftmost col and upper row\n",
    "    mat[0] = np.array([g*i for i in range(len(mat[0]))])\n",
    "    mat[:,0] = np.array([g*i for i in range(len(mat[:, 0]))])\n",
    "    return (mat)\n",
    "\n",
    "def score(char1, char2, M, m):\n",
    "    if char1 == char2:\n",
    "        return M\n",
    "    else: return m\n",
    "   \n",
    "\n",
    "# need to keep track of backtrack matrix while you're creating the score matrix\n",
    "def recursive(mat, i, j, str1, str2, seq1, seq2):\n",
    "    if i == 0 or j ==0:\n",
    "        if i== 0 and j==0:\n",
    "            pass    \n",
    "        elif i == 0:\n",
    "            str1.append(\"-\"), str2.append(seq2[j-1])\n",
    "        else: \n",
    "            str1.append(seq1[i-1]), str2.append(\"-\")\n",
    "        return (mat[-1,-1], (\"\".join(str1))[::-1], (\"\".join(str2))[::-1])\n",
    "         \n",
    "    else:\n",
    "        if max(mat[i-1, j-1],  mat[i,j-1], mat[i-1, j]) == mat[i-1, j-1]:\n",
    "            # match or mismatch\n",
    "            str1.append(seq1[i-1]), str2.append(seq2[j-1])\n",
    "            return recursive(mat, i-1, j-1, str1, str2, seq1, seq2)\n",
    "        elif max(mat[i-1, j-1],  mat[i,j-1], mat[i-1, j]) == mat[i, j-1]:\n",
    "            # add gap to str2\n",
    "            str1.append(\"-\"), str2.append(seq2[j-1])\n",
    "            return recursive(mat, i, j-1, str1, str2, seq1, seq2)\n",
    "        else:\n",
    "            # add gap to str1\n",
    "            str1.append(seq1[i-1]), str2.append(\"-\")\n",
    "            return recursive(mat, i-1, j, str1, str2, seq1, seq2)\n",
    "\n",
    "def init_backtrack(seq1, seq2):\n",
    "    # first create an len(seq1 by len(seq2) matrix\n",
    "    mat = np.array([[0 for i in range(len(seq2)+1)] for j in range(len(seq1)+1)])\n",
    "    # then populate the leftmost col and upper row\n",
    "    # 1-- diag, 2--left, 3--up\n",
    "    mat[0] = np.array([ 2 for i in range(len(mat[0]))])\n",
    "    mat[:,0] = np.array([3 for i in range(len(mat[:, 0]))])\n",
    "    mat[0,0] = 0\n",
    "    return (mat) \n",
    "\n",
    "def solve_backtrack(backtrack, seq1, seq2):\n",
    "    str1, str2 = [], []\n",
    "    i, j = len(seq1), len(seq2)\n",
    "    print(i,j)\n",
    "    while i !=0 or j != 0:\n",
    "        if backtrack[i,j] == 1:\n",
    "            str1.append(seq1[i-1]), str2.append(seq2[j-1])\n",
    "            i -= 1 \n",
    "            j -= 1\n",
    "        # left\n",
    "        elif backtrack[i,j] == 2:\n",
    "            str1.append(\"-\"), str2.append(seq2[j-1])\n",
    "            j -= 1\n",
    "        # up\n",
    "        elif backtrack[i,j] == 3:\n",
    "            str1.append(seq1[i-1]), str2.append(\"-\")\n",
    "            i -= 1\n",
    "        else:\n",
    "            break\n",
    "        #print(i,j)\n",
    "        #print(str1, str2)\n",
    "    return (\"\".join(str1))[::-1], (\"\".join(str2))[::-1] \n",
    "        \n",
    "        \n",
    "        \n",
    "# Do not change this function signature\n",
    "def needleman_wunsch(seq1, seq2):\n",
    "    \"\"\"Find the global alignment for seq1 and seq2\n",
    "    Returns: 3 items as so:\n",
    "    the alignment score, alignment in seq1 (str), alignment in seq2 (str)\n",
    "    \"\"\"\n",
    "    # backtrack matrix\n",
    "    \n",
    "    backtrack = (init_backtrack(seq1, seq2))\n",
    "    M, m, g = 1, -2, -1\n",
    "    mat = init_NW(seq1, seq2, M, m ,g)\n",
    "    for i in range(1, len(seq1)+1):\n",
    "        for j in range(1, len(seq2)+1):  \n",
    "            # now have to partition into if statement\n",
    "            mat[i, j] = max(mat[i-1, j-1]+score(seq1[i-1], seq2[j-1], M, m), mat[i,j-1]+g, mat[i-1, j]+g)\n",
    "            # diag\n",
    "            if mat[i-1, j-1]+score(seq1[i-1], seq2[j-1], M, m) == mat[i,j]:\n",
    "                backtrack[i,j] = 1\n",
    "            # left --  this isn't left?\n",
    "            elif mat[i,j-1]+g == mat[i,j]:\n",
    "                backtrack[i,j] = 2\n",
    "            # up\n",
    "            else:\n",
    "                backtrack[i,j] = 3\n",
    "                \n",
    "    str1, str2 = (solve_backtrack(backtrack, seq1, seq2))\n",
    "    #str1, str2, i, j  = [], [], len(seq1), len(seq2)\n",
    "    #return recursive(mat, i, j, str1, str2, seq1, seq2)\n",
    "    return mat[-1,-1], str1, str2\n",
    "\n",
    "    # now need to find the best one and traceback\n",
    "print(needleman_wunsch(\"AGCTA\", \"AGGTCA\"))     \n",
    "print(needleman_wunsch(\"BAF\", \"AZ\"))   "
   ]
  },
  {
   "cell_type": "code",
   "execution_count": 2,
   "id": "266f1b86",
   "metadata": {},
   "outputs": [
    {
     "data": {
      "text/plain": [
       "39"
      ]
     },
     "execution_count": 2,
     "metadata": {},
     "output_type": "execute_result"
    }
   ],
   "source": [
    "def rle(s):\n",
    "    \"\"\"Run Length Encoder\n",
    "    Args: s, string to be encoded\n",
    "    Returns: RLE(s)\n",
    "    If a character is repeated more than once, we replace it with two instances of that \n",
    "    character followed by the length of the run. If it only occurs once, we leave it alone\n",
    "    \"\"\"\n",
    "    # only stop and count after letter changes\n",
    "    out_str = []\n",
    "    prev = \"\"\n",
    "    count = 1\n",
    "    for i in range(len(s)+1):\n",
    "        if i == len(s):\n",
    "            if count > 1:\n",
    "                out_str.append(prev), out_str.append(prev), out_str.append(str(count))\n",
    "            else:\n",
    "                out_str.append(prev)\n",
    "            return \"\".join(out_str)\n",
    "        elif s[i] == prev:\n",
    "            count += 1\n",
    "        else:\n",
    "            if count > 1:\n",
    "                out_str.append(prev), out_str.append(prev), out_str.append(str(count))\n",
    "            else:\n",
    "                out_str.append(prev)\n",
    "            count = 1\n",
    "        prev = s[i]\n",
    "    \n",
    "\n",
    "#rle(\"WAAAAHAAAHAAAA!\")\n",
    "len(rle(\"steelerssteelerssteelerssteelers\"))"
   ]
  },
  {
   "cell_type": "code",
   "execution_count": 4,
   "id": "be316dec",
   "metadata": {},
   "outputs": [
    {
     "data": {
      "text/plain": [
       "'peepoop'"
      ]
     },
     "execution_count": 4,
     "metadata": {},
     "output_type": "execute_result"
    }
   ],
   "source": [
    "def bwt_encode(s):\n",
    "    \"\"\"Burrows-Wheeler Transform\n",
    "    Args: s, string, which must not contain '{' or '}'\n",
    "    Returns: BWT(s), which contains '{' and '}'\n",
    "    \"\"\"\n",
    "    \"\"\"Apply Burrows–Wheeler transform to input string.\"\"\"\n",
    "    s = \"{\" + s + \"}\"  # Add start and end of text marker\n",
    "    # given k == n\n",
    "    # n*n log n\n",
    "    table = sorted(s[i:] + s[:i] for i in range(len(s)))  # Table of rotations of string\n",
    "    # n\n",
    "    last_column = [row[-1:] for row in table]  # Last characters of each row\n",
    "    return \"\".join(last_column)  # Convert list of characters into string\n",
    "\n",
    "def bwt_decode(bwt):\n",
    "    \"\"\"Inverse Burrows-Wheeler Transform\n",
    "    Args: bwt, BWT'ed string, which should contain '{' and '}'\n",
    "    Returns: reconstructed original string s, must not contains '{' or '}'\n",
    "    \"\"\"\n",
    "    \"\"\"Apply inverse Burrows–Wheeler transform.\"\"\"\n",
    "    r = bwt\n",
    "    table = [\"\"] * len(r)  # Make empty table\n",
    "    # k == n\n",
    "    # n * (n*n log n)\n",
    "    for i in range(len(r)):\n",
    "        table = sorted(r[i] + table[i] for i in range(len(r)))  # Add a column of r\n",
    "    # n\n",
    "    s = [row for row in table if row.endswith(\"}\")][0]  # Find the correct row (ending in ETX)\n",
    "    return s.rstrip(\"}\").strip(\"{\")  # Get rid of start and end markers\n",
    "    \n",
    "bwt_decode(bwt_encode(\"peepoop\"))"
   ]
  },
  {
   "cell_type": "code",
   "execution_count": 6,
   "id": "c0af1df4",
   "metadata": {},
   "outputs": [
    {
     "data": {
      "text/plain": [
       "25"
      ]
     },
     "execution_count": 6,
     "metadata": {},
     "output_type": "execute_result"
    }
   ],
   "source": [
    "len(rle(bwt_encode(\"steelerssteelerssteelerssteelers\")))\n",
    "# the lexicographical sort on the rotations and the repetitive -- long runs of identical characters together"
   ]
  },
  {
   "cell_type": "code",
   "execution_count": 6,
   "id": "dad2241a",
   "metadata": {},
   "outputs": [
    {
     "name": "stdout",
     "output_type": "stream",
     "text": [
      "7 5\n"
     ]
    }
   ],
   "source": [
    "print(len(rle(bwt_encode(\"steal\"))), len((\"steal\")))"
   ]
  },
  {
   "cell_type": "code",
   "execution_count": 7,
   "id": "bdc4505d",
   "metadata": {},
   "outputs": [
    {
     "name": "stdout",
     "output_type": "stream",
     "text": [
      "6 10\n",
      "6 7\n"
     ]
    }
   ],
   "source": [
    "print(len(rle(bwt_encode(\"aaaaaaaaaa\"))), len((\"aaaaaaaaaa\")))\n",
    "print(len(rle(bwt_encode(\"eeeeeee\"))), len((\"eeeeeee\")))\n",
    "# highly repetitive strings store better\n",
    "# copy number regions, or tandem repeats"
   ]
  },
  {
   "cell_type": "code",
   "execution_count": null,
   "id": "e26358ab",
   "metadata": {},
   "outputs": [],
   "source": [
    "# 7 neighbors? --explain 2^3 -1 (powerset --yada yada) -- crap out what durand says\n",
    "\n",
    "# hypercube, just keep adding for loops essentially\n",
    "# O(|N_1| |N_2| ... |N_K|) -- k^2 * 2^k * N^k -- why --again from durand notes\n",
    "\n",
    "# Yes\n",
    "# "
   ]
  }
 ],
 "metadata": {
  "kernelspec": {
   "display_name": "Python 3 (ipykernel)",
   "language": "python",
   "name": "python3"
  },
  "language_info": {
   "codemirror_mode": {
    "name": "ipython",
    "version": 3
   },
   "file_extension": ".py",
   "mimetype": "text/x-python",
   "name": "python",
   "nbconvert_exporter": "python",
   "pygments_lexer": "ipython3",
   "version": "3.9.7"
  }
 },
 "nbformat": 4,
 "nbformat_minor": 5
}
